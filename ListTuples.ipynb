{
 "cells": [
  {
   "cell_type": "code",
   "execution_count": 4,
   "id": "b1c03309-da02-47fe-a3e8-aa25f58e1ef9",
   "metadata": {},
   "outputs": [
    {
     "name": "stdout",
     "output_type": "stream",
     "text": [
      "[24, 45, 76, 89, 90, 22, 44, 55, 21, 34, 78, 76, 52, 31]\n",
      "24\n",
      "22\n",
      "34\n"
     ]
    }
   ],
   "source": [
    "marks=[24,45,76,89,90,22,44,55,21,34,78,76,52,31]\n",
    "print(marks)\n",
    "print(marks[0])\n",
    "print(marks[5])\n",
    "print(marks[9])"
   ]
  },
  {
   "cell_type": "code",
   "execution_count": 9,
   "id": "47b9a6c6-fb54-4403-8df4-0876a47f10cb",
   "metadata": {},
   "outputs": [
    {
     "name": "stdout",
     "output_type": "stream",
     "text": [
      "['Sher Muhammad', 99.0, 'Larkana ']\n",
      "['Sher', 99.0, 'Larkana ']\n"
     ]
    }
   ],
   "source": [
    "student=[\"Sher Muhammad\", 99.0,\"Larkana \"]\n",
    "print(student)\n",
    "# list are mutable\n",
    "student[0]=\"Sher\"\n",
    "print(student)"
   ]
  },
  {
   "cell_type": "code",
   "execution_count": 24,
   "id": "17316494-1b0d-413d-8e49-2276997fa779",
   "metadata": {},
   "outputs": [
    {
     "name": "stdout",
     "output_type": "stream",
     "text": [
      "[5, 8, 9, 1, 3, 4, 2, 7, 6, 100]\n",
      "[100, 9, 8, 7, 6, 5, 4, 3, 2, 1]\n",
      "['a', 'b', 'c', 'e', 'g', 'm']\n",
      "['m', 'g', 'e', 'c', 'b', 'a']\n",
      "[100, 9, 8, 7, 400, 6, 5, 4, 3, 2, 1]\n",
      "[100, 9, 8, 7, 400, 6, 5, 3, 2, 1]\n",
      "[100, 9, 8, 7, 6, 5, 3, 2, 1]\n"
     ]
    }
   ],
   "source": [
    "# methods\n",
    "values=[5,8,9,1,3,4,2,7,6]\n",
    "values.append(100)\n",
    "print(values)\n",
    "#values.sort() Ascending\n",
    "values.sort(reverse=True)# descending\n",
    "print(values)\n",
    "values2=['a','b','g','m','c','e']\n",
    "values2.sort()\n",
    "print(values2)\n",
    "values2.reverse()\n",
    "print(values2)\n",
    "values.insert(4,400)\n",
    "print(values)\n",
    "values.remove(4)\n",
    "print(values)\n",
    "values.pop(4)\n",
    "print(values)"
   ]
  },
  {
   "cell_type": "code",
   "execution_count": 4,
   "id": "de618d31-193c-41df-9fbc-452dd34c28a2",
   "metadata": {},
   "outputs": [
    {
     "name": "stdout",
     "output_type": "stream",
     "text": [
      "(1, 2, 3, 4, 5, 6)\n",
      "()\n",
      "<class 'tuple'>\n",
      "(1,)\n",
      "<class 'tuple'>\n"
     ]
    }
   ],
   "source": [
    "#tupples are like the list but they are immutable \n",
    "tup=(1,2,3,4,5,6)\n",
    "print(tup)\n",
    "# we can make empty tuple\n",
    "tupp=()\n",
    "print(tupp)\n",
    "print(type(tupp))\n",
    "# if there is one value in the tuple we put , comma  \n",
    "tup=(1,)\n",
    "print(tup)\n",
    "print(type(tup))"
   ]
  },
  {
   "cell_type": "code",
   "execution_count": 9,
   "id": "e11871e0-73de-410a-a4f3-174435aa95f1",
   "metadata": {},
   "outputs": [
    {
     "name": "stdout",
     "output_type": "stream",
     "text": [
      "(2, 3, 4, 5)\n",
      "2\n",
      "2\n"
     ]
    }
   ],
   "source": [
    "#slicing in tuple work as in the list\n",
    "tup=(1,2,3,4,5,6,7,8,3,10)\n",
    "print(tup[1:5])\n",
    "\n",
    " #tuple methods\n",
    "\n",
    "print(tup.index(3))\n",
    "# It returns the index of the first occurrence\n",
    "print(tup.count(3))\n",
    "# returns the number of how many time that element occur"
   ]
  },
  {
   "cell_type": "code",
   "execution_count": 17,
   "id": "f9cd41f9-d73f-4e93-aafb-5e87d14fc6bf",
   "metadata": {},
   "outputs": [
    {
     "name": "stdin",
     "output_type": "stream",
     "text": [
      "Enter name of favorite movie 1 bahubali\n",
      "Enter name of favorite movie 2 KGF\n",
      "Enter name of favorite movie 3 Pushpa\n",
      "enter name of first movie Jawan\n",
      "enter name of second movie Bharmastra\n",
      "enter name of third movie devdas\n"
     ]
    },
    {
     "name": "stdout",
     "output_type": "stream",
     "text": [
      "['bahubali', 'KGF', 'Pushpa', 'Jawan', 'Bharmastra', 'devdas']\n"
     ]
    }
   ],
   "source": [
    "# ask user to inter 3 movies and store it in list\n",
    "favmov=[]\n",
    "movie1=input(\"Enter name of favorite movie 1\",)\n",
    "movie2=input(\"Enter name of favorite movie 2\",)\n",
    "movie3=input(\"Enter name of favorite movie 3\",)\n",
    "\n",
    "#favmov=[movie1,movie2,movie3]\n",
    "favmov.append(movie1)\n",
    "favmov.append(movie2)\n",
    "favmov.append(movie3)\n",
    "favmov.append(input(\"enter name of first movie\",))\n",
    "favmov.append(input(\"enter name of second movie\"))\n",
    "favmov.append(input(\"enter name of third movie\"))\n",
    "\n",
    "print(favmov)"
   ]
  },
  {
   "cell_type": "code",
   "execution_count": 29,
   "id": "b582e05c-91cd-4ffb-b695-62001eb7ba64",
   "metadata": {},
   "outputs": [
    {
     "name": "stdout",
     "output_type": "stream",
     "text": [
      "palindrome\n"
     ]
    }
   ],
   "source": [
    "#check for palindrome function\n",
    "List=[1,2,3,4,5,4,3,2,1]\n",
    "list1=List.copy()\n",
    "list1.reverse()\n",
    "\n",
    "if(list1==List):\n",
    "    print(\"palindrome\")\n",
    "\n",
    "else:\n",
    "    print(\"not palindrome\")\n"
   ]
  },
  {
   "cell_type": "code",
   "execution_count": 35,
   "id": "8146a3a5-3e0d-400f-a61a-166ed725c0ae",
   "metadata": {},
   "outputs": [
    {
     "data": {
      "text/plain": [
       "3"
      ]
     },
     "execution_count": 35,
     "metadata": {},
     "output_type": "execute_result"
    }
   ],
   "source": [
    "tup=(\"A\",\"C\",\"D\",\"A\",\"B\",\"B\",\"A\")\n",
    "tup.count(\"A\")"
   ]
  }
 ],
 "metadata": {
  "kernelspec": {
   "display_name": "Python 3 (ipykernel)",
   "language": "python",
   "name": "python3"
  },
  "language_info": {
   "codemirror_mode": {
    "name": "ipython",
    "version": 3
   },
   "file_extension": ".py",
   "mimetype": "text/x-python",
   "name": "python",
   "nbconvert_exporter": "python",
   "pygments_lexer": "ipython3",
   "version": "3.12.6"
  }
 },
 "nbformat": 4,
 "nbformat_minor": 5
}
