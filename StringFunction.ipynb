{
 "cells": [
  {
   "cell_type": "code",
   "execution_count": 5,
   "id": "7a5e403c-fd18-414e-add6-bc39a03ae72e",
   "metadata": {},
   "outputs": [
    {
     "name": "stdout",
     "output_type": "stream",
     "text": [
      "True\n",
      "My name is sher muhammad jessar\n",
      "my name is Sher Muhammad jessar\n",
      "My name is sher muhammad jessar\n"
     ]
    }
   ],
   "source": [
    "#String Function \n",
    "str= \"my name is Sher Muhammad jessar\"\n",
    "print(str.endswith(\"sar\"))# true\n",
    "print(str.capitalize())#capitalize first character of string and not changes to actual string\n",
    "print(str)\n",
    "str=str.capitalize()\n",
    "print(str)"
   ]
  },
  {
   "cell_type": "code",
   "execution_count": 17,
   "id": "ae9560a6-959b-4b95-8bf9-99b9f64ba9d6",
   "metadata": {},
   "outputs": [
    {
     "name": "stdout",
     "output_type": "stream",
     "text": [
      "my name are Sher Muhammad jessar\n",
      "3\n",
      "4\n"
     ]
    }
   ],
   "source": [
    "#replace function\n",
    "str= \"my name is Sher Muhammad jessar\"\n",
    "print(str.replace(\"is\",\"are\"))\n",
    "\n",
    "#find string it returns first index\n",
    "print(str.find(\"name\"))\n",
    "\n",
    "#counts the string used\n",
    "print(str.count(\"a\"))\n",
    "\n"
   ]
  },
  {
   "cell_type": "code",
   "execution_count": 20,
   "id": "67d1fcca-fe4b-46f2-8598-e3ba969cf666",
   "metadata": {},
   "outputs": [
    {
     "name": "stdin",
     "output_type": "stream",
     "text": [
      "Enter name :  sher muhammad\n"
     ]
    },
    {
     "name": "stdout",
     "output_type": "stream",
     "text": [
      "The length of your Name is : 13\n"
     ]
    }
   ],
   "source": [
    "#print inputs length\n",
    "\n",
    "str=input(\"Enter name : \" )\n",
    "print(\"The length of your Name is :\",len(str))"
   ]
  },
  {
   "cell_type": "code",
   "execution_count": 22,
   "id": "0f11b28e-7219-4cb0-b614-41ffb830c388",
   "metadata": {},
   "outputs": [
    {
     "name": "stdout",
     "output_type": "stream",
     "text": [
      "the occurance of $ : 3\n"
     ]
    }
   ],
   "source": [
    "#count the occurance\n",
    "str=\"hi $i am $ used with currency $99.999.99\"\n",
    "print(\"the occurance of $ :\",str.count(\"$\"))"
   ]
  },
  {
   "cell_type": "code",
   "execution_count": 26,
   "id": "61328d24-4140-4055-9f1b-ed89705b9aa7",
   "metadata": {},
   "outputs": [
    {
     "name": "stdin",
     "output_type": "stream",
     "text": [
      "enter number 4\n"
     ]
    },
    {
     "name": "stdout",
     "output_type": "stream",
     "text": [
      "even\n"
     ]
    }
   ],
   "source": [
    "# check for odd or Even\n",
    "num=int(input(\"enter number\"))\n",
    "\n",
    "if(num%2==0):\n",
    "    print(\"even\")\n",
    "else: \n",
    "    print(\"odd\")"
   ]
  },
  {
   "cell_type": "code",
   "execution_count": 31,
   "id": "96decd11-8756-4637-9d48-31f3f480179a",
   "metadata": {},
   "outputs": [
    {
     "name": "stdin",
     "output_type": "stream",
     "text": [
      "enter num1 4\n",
      "enter num2 5\n",
      "enter num3 5\n"
     ]
    },
    {
     "name": "stdout",
     "output_type": "stream",
     "text": [
      "any two big values are equal\n"
     ]
    }
   ],
   "source": [
    "# find larget value\n",
    "num1=int(input(\"enter num1\"))\n",
    "num2=int(input(\"enter num2\"))\n",
    "num3=int(input(\"enter num3\"))\n",
    "if(num1>num2 and num1>num3):\n",
    "     print(\"num1 is greater:\",num1)\n",
    "elif(num2>num1 and num2>num3):\n",
    "    print(\"num2 is greter\",num2)\n",
    "elif(num3>num1 and num3>num2):\n",
    "     print(\"num3 is greater\",num3)\n",
    "\n",
    "else: print(\"any two big values are equal\")"
   ]
  },
  {
   "cell_type": "code",
   "execution_count": 34,
   "id": "f21f78f1-0ab9-48d5-8fab-253ac13b67f7",
   "metadata": {},
   "outputs": [
    {
     "name": "stdin",
     "output_type": "stream",
     "text": [
      "enter number 55\n"
     ]
    },
    {
     "name": "stdout",
     "output_type": "stream",
     "text": [
      "55  Is Not a Multiple of 7\n"
     ]
    }
   ],
   "source": [
    "# check multiples of 7\n",
    "num=int(input(\"enter number\"))\n",
    "if(num%7==0):\n",
    "    print(num,\" Is Multiple of 7\")\n",
    "else: print(num,\" Is Not a Multiple of 7\")"
   ]
  }
 ],
 "metadata": {
  "kernelspec": {
   "display_name": "Python 3 (ipykernel)",
   "language": "python",
   "name": "python3"
  },
  "language_info": {
   "codemirror_mode": {
    "name": "ipython",
    "version": 3
   },
   "file_extension": ".py",
   "mimetype": "text/x-python",
   "name": "python",
   "nbconvert_exporter": "python",
   "pygments_lexer": "ipython3",
   "version": "3.12.6"
  }
 },
 "nbformat": 4,
 "nbformat_minor": 5
}
