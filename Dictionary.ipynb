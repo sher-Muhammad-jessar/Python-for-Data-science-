{
 "cells": [
  {
   "cell_type": "code",
   "execution_count": 12,
   "id": "d7cd09d6-b2cd-4b82-863e-1d7dfbf5b152",
   "metadata": {},
   "outputs": [
    {
     "name": "stdout",
     "output_type": "stream",
     "text": [
      "{'orange': 10, 'Apple': 20, 'mango': 30, 'pineaple': 32}\n",
      "<class 'dict'>\n",
      "values\n",
      "dict_values([10, 20, 30, 32])\n",
      "keys\n",
      "dict_keys(['orange', 'Apple', 'mango', 'pineaple'])\n",
      "dict_items([('orange', 10), ('Apple', 20), ('mango', 30), ('pineaple', 32)])\n"
     ]
    },
    {
     "data": {
      "text/plain": [
       "{'orange': 99, 'Apple': 20, 'mango': 30, 'pineaple': 32, 'banana': 45}"
      ]
     },
     "execution_count": 12,
     "metadata": {},
     "output_type": "execute_result"
    }
   ],
   "source": [
    "# dictionary\n",
    "fruit={\"orange\": 10,\"Apple\":20,\"mango\":30,\"pineaple\":32}\n",
    "print(fruit)\n",
    "print(type(fruit))\n",
    "print(\"values\")\n",
    "print(fruit.values())\n",
    "print(\"keys\")\n",
    "print(fruit.keys())\n",
    "print(fruit.items())\n",
    "fruit[\"banana\"]=45\n",
    "fruit.items()\n",
    "# chnage in value\n",
    "fruit[\"orange\"]=99\n",
    "fruit"
   ]
  },
  {
   "cell_type": "code",
   "execution_count": 16,
   "id": "4f0bc8be-a80e-47ed-81bb-b0ac07f5562a",
   "metadata": {},
   "outputs": [
    {
     "data": {
      "text/plain": [
       "{'Apple': 20, 'mango': 30, 'pineaple': 32}"
      ]
     },
     "execution_count": 16,
     "metadata": {},
     "output_type": "execute_result"
    }
   ],
   "source": [
    "#append the values or merge 2 dictionaries\n",
    "fruit1={\"orange\": 10,\"Apple\":20}\n",
    "fruit2={\"mango\":30,\"pineaple\":32}\n",
    "fruit1.update(fruit2)\n",
    "fruit1\n",
    "# for delete or pop\n",
    "fruit1.pop(\"orange\")\n",
    "fruit1\n",
    "\n"
   ]
  },
  {
   "cell_type": "code",
   "execution_count": 6,
   "id": "c0cf4c6e-e7ff-4342-9516-6a295817e3e0",
   "metadata": {},
   "outputs": [
    {
     "name": "stdout",
     "output_type": "stream",
     "text": [
      "{'name': 'Sher Muhammad', 'Age': 19, 'Topics': ['Python', 'DSA', 'OOP', 'Core'], 'Subjects': ('SEM', 'SRE', 'SEM', 'SRE'), 'isAdult': True, 'Marks': 98, 100: 150}\n",
      "150\n",
      "Sher Muhammad\n",
      "['Python', 'DSA', 'OOP', 'Core']\n"
     ]
    }
   ],
   "source": [
    "info={\n",
    "\"name\":\"Sher Muhammad\",\n",
    "\"Age\":19,\n",
    "\"Topics\":[\"Python\",\"DSA\",\"OOP\",\"Core\"],\n",
    "\"Subjects\":(\"SEM\",\"SRE\",\"SEM\",\"SRE\"),\n",
    "\"isAdult\":True,\n",
    "\"Marks\":98,\n",
    "100: 150,\n",
    "}\n",
    "print(info)\n",
    "print(info[100])\n",
    "print(info[\"name\"])\n",
    "print(info[\"Topics\"])"
   ]
  },
  {
   "cell_type": "code",
   "execution_count": 4,
   "id": "e429f0de-7619-4a26-8a21-013b85cbee86",
   "metadata": {},
   "outputs": [
    {
     "name": "stdout",
     "output_type": "stream",
     "text": [
      "{'name': 'Muhammad', 'Age': 19, 'Topics': ['Python', 'DSA', 'OOP', 'Core'], 'Subjects': ('SEM', 'SRE', 'SEM', 'SRE'), 'isAdult': True, 'Marks': 98, 100: 150, 'surname': 'Jessar'}\n",
      "{}\n"
     ]
    }
   ],
   "source": [
    "# there is no order in dictionary no index \n",
    "# dict are mutable and we cant create duplicate \n",
    "#\n",
    "info={\n",
    "\"name\":\"Sher Muhammad\",\n",
    "\"Age\":19,\n",
    "\"Topics\":[\"Python\",\"DSA\",\"OOP\",\"Core\"],\n",
    "\"Subjects\":(\"SEM\",\"SRE\",\"SEM\",\"SRE\"),\n",
    "\"isAdult\":True,\n",
    "\"Marks\":98,\n",
    "100: 150,\n",
    "}\n",
    "info[\"name\"]=\"Muhammad\"\n",
    "info[\"surname\"]=\"Jessar\"\n",
    "print(info)\n",
    "\n",
    "# we can create null dictionary\n",
    "nulldict={}\n",
    "print(nulldict)"
   ]
  },
  {
   "cell_type": "code",
   "execution_count": 20,
   "id": "58c0d834-73e7-4c32-ab4f-3e7b54bdaa68",
   "metadata": {},
   "outputs": [
    {
     "name": "stdout",
     "output_type": "stream",
     "text": [
      "{'name': 'sher Muhammad', 'subjects': {'physics': 97, 'Chemistry': 98, 'Maths': 100, 'SRE': 90, 'SEM': 95}, 'age': 19, 'address': 'larkana '}\n",
      "{'physics': 97, 'Chemistry': 98, 'Maths': 100, 'SRE': 90, 'SEM': 95}\n",
      "90\n",
      "['name', 'subjects', 'age', 'address']\n",
      "4\n",
      "dict_values(['sher Muhammad', {'physics': 97, 'Chemistry': 98, 'Maths': 100, 'SRE': 90, 'SEM': 95}, 19, 'larkana '])\n",
      "None\n",
      "{'name': 'ali', 'subjects': {'physics': 97, 'Chemistry': 98, 'Maths': 100, 'SRE': 90, 'SEM': 95}, 'age': 21, 'address': 'larkana '}\n"
     ]
    }
   ],
   "source": [
    "# nested Dictionary\n",
    "student={\n",
    "    \"name\":\"sher Muhammad\",\n",
    "     \"subjects\":{\n",
    "    \"physics\":97,\n",
    "    \"Chemistry\":98,\n",
    "    \"Maths\": 100,\n",
    "    \"SRE\": 90,\n",
    "    \"SEM\": 95\n",
    "    },\n",
    "    \"age\": 19,\n",
    "     \"address\":\"larkana \"\n",
    "}\n",
    "print(student)\n",
    "print(student[\"subjects\"])\n",
    "print(student[\"subjects\"][\"SRE\"])\n",
    "\n",
    "# TYPE CAST\n",
    "\n",
    "print(list(student.keys()))\n",
    "print(len(student))\n",
    "print(student.values())\n",
    "print(student.get(\"subject\"))# if value not found return none\n",
    "\n",
    "\n",
    "# if two dict contains the same key so it update existing one\n",
    "dict2={\"name\": \"ali\",\"age\":21}\n",
    "student.update(dict2)\n",
    "print(student)"
   ]
  },
  {
   "cell_type": "code",
   "execution_count": 19,
   "id": "4cee686f-4921-40cb-981d-6007573f7222",
   "metadata": {},
   "outputs": [
    {
     "name": "stdout",
     "output_type": "stream",
     "text": [
      "<class 'set'>\n",
      "<class 'dict'>\n",
      "<class 'set'>\n",
      "{1, 2, 1.001, 'sher', (1, 2, 3, 4, 5)}\n",
      "{1, 2, 'sher', (1, 2, 3, 4, 5)}\n",
      "POping\n",
      "{1, 2, 'sher', (1, 2, 3, 4, 5)}\n",
      "1\n",
      "{2, 'sher', (1, 2, 3, 4, 5)}\n"
     ]
    },
    {
     "data": {
      "text/plain": [
       "2"
      ]
     },
     "execution_count": 19,
     "metadata": {},
     "output_type": "execute_result"
    }
   ],
   "source": [
    "# sets are unoordered no index\n",
    "# it store int,float,tuple,boolean but not dict or lists\n",
    "# it stores unique values and iqnore duplicate values\n",
    "collection={1,2,3,4,5}\n",
    "\n",
    "print(type(collection))\n",
    "\n",
    "#empty set \n",
    "collection={}# this is empty dict\n",
    "print(type(collection))\n",
    "collection=set()\n",
    "print(type(collection))\n",
    "\n",
    "# set is mutable but elements of the set are immutable\n",
    "\n",
    "collection.add(1)\n",
    "collection.add(2)\n",
    "collection.add(\"sher\")\n",
    "collection.add(1.001)\n",
    "collection.add((1,2,3,4,5))\n",
    "print(collection)\n",
    "# remove delete a specific element\n",
    "collection.remove(1.001)\n",
    "print(collection)\n",
    "# clear removes all element\n",
    "print(\"POping\")\n",
    "print(collection)\n",
    "print(collection.pop())\n",
    "print(collection)\n",
    "collection.pop()"
   ]
  },
  {
   "cell_type": "code",
   "execution_count": 22,
   "id": "7c9ff793-15eb-4cec-b484-b2c1745ec12c",
   "metadata": {},
   "outputs": [
    {
     "name": "stdout",
     "output_type": "stream",
     "text": [
      "{1, 2, 3, 4, 5, 6, 7, 8}\n",
      "{1, 2, 3, 4, 5}\n",
      "{4, 5, 6, 7, 8}\n",
      "{4, 5}\n"
     ]
    }
   ],
   "source": [
    "#union and intersection\n",
    "set1={1,2,3,4,5,}\n",
    "set2={4,5,6,7,8,}\n",
    "\n",
    "print(set1.union(set2))\n",
    "# it doesn't make any change in original sets\n",
    "print(set1)\n",
    "print(set2)\n",
    "\n",
    "# intersection\n",
    "\n",
    "print(set1.intersection(set2))"
   ]
  },
  {
   "cell_type": "code",
   "execution_count": 28,
   "id": "182a2eb5-6bba-4c85-93a3-784543c05933",
   "metadata": {},
   "outputs": [
    {
     "name": "stdout",
     "output_type": "stream",
     "text": [
      "{'table': ['a piece of furniture', 'lists of facts and fiqure'], 'cat': 'a small animal'}\n"
     ]
    }
   ],
   "source": [
    "# practice \n",
    "dictionary={\n",
    "    \"table\": [\"a piece of furniture\",\"lists of facts and fiqure\"],\n",
    "    \"cat\" : \"a small animal\"\n",
    "}\n",
    "print(dictionary)"
   ]
  },
  {
   "cell_type": "code",
   "execution_count": 29,
   "id": "5a805da9-b8c5-43cd-8070-e33850575e3f",
   "metadata": {},
   "outputs": [
    {
     "name": "stdout",
     "output_type": "stream",
     "text": [
      "5\n"
     ]
    }
   ],
   "source": [
    "\n",
    " classroom={\"python\",\"java\",\"c++\",\"python\",\"javascript\",\"java\",\"python\",\"java\",\"c++\",\"c\"}\n",
    " print(len(classroom))"
   ]
  },
  {
   "cell_type": "code",
   "execution_count": 34,
   "id": "aebbdc0f-b6a8-4d0a-9bc2-5eeebaa6320a",
   "metadata": {},
   "outputs": [
    {
     "name": "stdin",
     "output_type": "stream",
     "text": [
      "enter the marks of chemistry 33\n",
      "enter the marks of maths 33\n",
      "enter the marks of biology 33\n"
     ]
    },
    {
     "name": "stdout",
     "output_type": "stream",
     "text": [
      "dict_keys(['chemistry', 'maths', 'bio'])\n"
     ]
    }
   ],
   "source": [
    "\n",
    " chemistry=input(\"enter the marks of chemistry\")\n",
    " maths=input(\"enter the marks of maths\")\n",
    " bio=input(\"enter the marks of biology\")\n",
    " marks={\n",
    "    \"chemistry\" :chemistry,\n",
    "     \"maths\" : maths,\n",
    "     \"bio\": bio\n",
    " }\n",
    " print(marks.keys())"
   ]
  },
  {
   "cell_type": "code",
   "execution_count": 46,
   "id": "e80903a0-5cb3-4130-910e-b74f426a970c",
   "metadata": {},
   "outputs": [
    {
     "name": "stdout",
     "output_type": "stream",
     "text": [
      "{9}\n",
      "{9, '9.0'}\n",
      "{('int', 9), ('float', 9.0)}\n"
     ]
    }
   ],
   "source": [
    "# store 9 and 9.0 serately in set \n",
    "sett={9,9.0}\n",
    "print(sett)\n",
    "\n",
    "# one way one in original form and one in string form\n",
    "sett={9,'9.0'}\n",
    "print(sett)\n",
    "\n",
    "# 2 solution in tuples\n",
    "sett={\n",
    "     (\"float\",9.0),\n",
    "       (\"int\",9)\n",
    " }\n",
    "print(sett)"
   ]
  },
  {
   "cell_type": "code",
   "execution_count": null,
   "id": "d599abdc-9b55-409b-9c25-f21b517509b0",
   "metadata": {},
   "outputs": [],
   "source": []
  }
 ],
 "metadata": {
  "kernelspec": {
   "display_name": "Python 3 (ipykernel)",
   "language": "python",
   "name": "python3"
  },
  "language_info": {
   "codemirror_mode": {
    "name": "ipython",
    "version": 3
   },
   "file_extension": ".py",
   "mimetype": "text/x-python",
   "name": "python",
   "nbconvert_exporter": "python",
   "pygments_lexer": "ipython3",
   "version": "3.12.6"
  }
 },
 "nbformat": 4,
 "nbformat_minor": 5
}
