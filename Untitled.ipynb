{
 "cells": [
  {
   "cell_type": "code",
   "execution_count": 21,
   "id": "b7b9c910-038a-4e37-946f-31cd37a7d76b",
   "metadata": {},
   "outputs": [
    {
     "name": "stdout",
     "output_type": "stream",
     "text": [
      "-3\n",
      "-1.0\n"
     ]
    }
   ],
   "source": [
    "a=5\n",
    "b=-12\n",
    "c=b//a\n",
    "print(c)\n",
    "#-ve denominator \n",
    "d=2\n",
    "e=-2\n",
    "print(e/d)"
   ]
  },
  {
   "cell_type": "code",
   "execution_count": 28,
   "id": "cc670af7-18fa-43e9-9491-9ea1f8dd0ed2",
   "metadata": {},
   "outputs": [
    {
     "name": "stdin",
     "output_type": "stream",
     "text": [
      " iqbal\n",
      "AGE :  20\n",
      "Price :  23.4445\n"
     ]
    },
    {
     "name": "stdout",
     "output_type": "stream",
     "text": [
      "MY Name is  iqbal   20  years old \n"
     ]
    }
   ],
   "source": [
    "#input\n",
    "name=input()\n",
    "age=int(input(\"AGE : \"))\n",
    "price=float(input(\"Price : \"))\n",
    "print(\"MY Name is \",name,\" \",age ,\" years old \")\n"
   ]
  },
  {
   "cell_type": "code",
   "execution_count": 29,
   "id": "5aa7c8f4-aa8b-4911-ae50-b62bd79fa46f",
   "metadata": {},
   "outputs": [
    {
     "name": "stdout",
     "output_type": "stream",
     "text": [
      "27\n"
     ]
    }
   ],
   "source": [
    "#operator ** means power\n",
    "c=3**3\n",
    "print(c)"
   ]
  },
  {
   "cell_type": "code",
   "execution_count": 30,
   "id": "39412687-a47a-4408-8ec2-a9bce13d8e38",
   "metadata": {},
   "outputs": [
    {
     "data": {
      "text/plain": [
       "True"
      ]
     },
     "execution_count": 30,
     "metadata": {},
     "output_type": "execute_result"
    }
   ],
   "source": [
    "#operator precendence\n",
    "not True and False or True"
   ]
  },
  {
   "cell_type": "code",
   "execution_count": 42,
   "id": "62d41f8d-b1e5-40bb-8f5c-8aed09c37294",
   "metadata": {},
   "outputs": [
    {
     "name": "stdin",
     "output_type": "stream",
     "text": [
      "Light :  Red\n"
     ]
    },
    {
     "name": "stdout",
     "output_type": "stream",
     "text": [
      "LIGHT IS BROKEN\n"
     ]
    }
   ],
   "source": [
    "light=input(\"Light : \")\n",
    "if(light==\"red\"):\n",
    "    print(\"Stop\")\n",
    "elif(light==\"Yello\"):\n",
    "    print(\"Ready\")\n",
    "elif(light==\"Green\"):\n",
    "    print(\"GO\")\n",
    "else:\n",
    "    print(\"LIGHT IS BROKEN\")"
   ]
  },
  {
   "cell_type": "code",
   "execution_count": 50,
   "id": "fd6cf670-c0d5-4af9-a8ed-f94d0d2241fe",
   "metadata": {},
   "outputs": [
    {
     "name": "stdin",
     "output_type": "stream",
     "text": [
      "Marks :  91\n"
     ]
    },
    {
     "name": "stdout",
     "output_type": "stream",
     "text": [
      "A+\n"
     ]
    }
   ],
   "source": [
    "marks=int(input(\"Marks : \"))\n",
    "if(marks>90):\n",
    "    print(\"A+\")\n",
    "elif(marks<=89 and marks>80):\n",
    "    print(\"A\")\n",
    "elif(marks<=79 and marks>70):\n",
    "    print(\"B+\")\n",
    "elif(marks<=69 and marks>60):\n",
    "    print(\"B\")\n",
    "elif(marks<=59 and marks>50):\n",
    "    print(\"C+\")\n",
    "else:\n",
    "    print(\"Fail\")"
   ]
  },
  {
   "cell_type": "code",
   "execution_count": 54,
   "id": "53e126f0-14af-4026-9783-b86c6690d0a3",
   "metadata": {},
   "outputs": [
    {
     "name": "stdin",
     "output_type": "stream",
     "text": [
      "FOOD :  mango \n"
     ]
    },
    {
     "name": "stdout",
     "output_type": "stream",
     "text": [
      "no\n"
     ]
    }
   ],
   "source": [
    "#single line condition variable\n",
    "food=input(\"FOOD : \")\n",
    "eat=\"yes\" if food==\"cake\" else \"no\"\n",
    "print(eat)"
   ]
  },
  {
   "cell_type": "code",
   "execution_count": 61,
   "id": "c83056fd-a2be-4002-a217-64d217cbcf26",
   "metadata": {},
   "outputs": [
    {
     "name": "stdin",
     "output_type": "stream",
     "text": [
      "FOOD mango \n"
     ]
    },
    {
     "name": "stdout",
     "output_type": "stream",
     "text": [
      "No\n"
     ]
    }
   ],
   "source": [
    "# single line with print direct\n",
    "food=input(\"FOOD\")\n",
    "\n",
    "print(\"yes\") if food==\"apple\"or food==\"cake\" or food==\"wheet\" else print(\"No\")"
   ]
  },
  {
   "cell_type": "code",
   "execution_count": 67,
   "id": "e3d54e2f-d611-40c0-ad21-5b2349511b3a",
   "metadata": {},
   "outputs": [
    {
     "name": "stdin",
     "output_type": "stream",
     "text": [
      "Age :  12\n"
     ]
    },
    {
     "name": "stdout",
     "output_type": "stream",
     "text": [
      "no\n"
     ]
    }
   ],
   "source": [
    "# terney or clever if\n",
    "\n",
    "age=int(input(\"Age : \"))\n",
    "Vote=(\"Yes\",\"no\")[age<18]\n",
    "print(Vote)"
   ]
  },
  {
   "cell_type": "code",
   "execution_count": 2,
   "id": "cd7faf77-3a13-4b9b-8eea-0850e6be7861",
   "metadata": {},
   "outputs": [
    {
     "name": "stdin",
     "output_type": "stream",
     "text": [
      "Salary  100000\n"
     ]
    },
    {
     "name": "stdout",
     "output_type": "stream",
     "text": [
      "20000.0\n"
     ]
    }
   ],
   "source": [
    "sal=float(input(\"Salary \"))\n",
    "tax=sal*(0.2,0.1)[sal<100000]\n",
    "print(tax)"
   ]
  },
  {
   "cell_type": "code",
   "execution_count": 7,
   "id": "f702e284-2fff-4591-ba8f-226c530f1c41",
   "metadata": {},
   "outputs": [
    {
     "name": "stdout",
     "output_type": "stream",
     "text": [
      "Sum :  7\n",
      "subt :  3\n",
      "mult :  10\n",
      "div:  2.5\n",
      "mod :  1\n",
      " :  25\n"
     ]
    }
   ],
   "source": [
    "#Arithmatic operators \n",
    "a=5\n",
    "b=2\n",
    "print(\"Sum : \",a+b)\n",
    "print(\"subt : \",a-b)\n",
    "print(\"mult : \",a*b)\n",
    "print(\"div: \",a/b)\n",
    "print(\"mod : \",a%b)\n",
    "print(\" : \",a**b)# power"
   ]
  },
  {
   "cell_type": "code",
   "execution_count": 9,
   "id": "370781af-0bbb-4e4e-bc17-3f4c48f48eb9",
   "metadata": {},
   "outputs": [
    {
     "name": "stdout",
     "output_type": "stream",
     "text": [
      "False\n",
      "True\n",
      "False\n",
      "False\n",
      "True\n",
      "True\n"
     ]
    }
   ],
   "source": [
    "#relational Operators\n",
    "a=5\n",
    "a=4\n",
    "\n",
    "print(a==b)\n",
    "print(a!=b)\n",
    "print(a<b)\n",
    "print(a<=b)\n",
    "print(a>b)\n",
    "print(a>=b)"
   ]
  },
  {
   "cell_type": "code",
   "execution_count": 13,
   "id": "52bfa2fd-ac35-4f6a-9a41-eb0f5f1567a6",
   "metadata": {},
   "outputs": [
    {
     "name": "stdout",
     "output_type": "stream",
     "text": [
      "10000000000\n"
     ]
    }
   ],
   "source": [
    "#assignment operators\n",
    "a=5\n",
    "b=10\n",
    "b**=10 # b=b**10\n",
    "print(b)"
   ]
  },
  {
   "cell_type": "code",
   "execution_count": 16,
   "id": "8bb1d77a-bda2-4f64-97fd-76764172fbba",
   "metadata": {},
   "outputs": [
    {
     "name": "stdout",
     "output_type": "stream",
     "text": [
      "False\n",
      "True\n"
     ]
    }
   ],
   "source": [
    "# logical operator NOT OR AND\n",
    "a=6\n",
    "b=12\n",
    "print((a==b))\n",
    "print(not(a==b))"
   ]
  },
  {
   "cell_type": "code",
   "execution_count": 1,
   "id": "960f23d4-23ad-47ef-8202-617aed0ab448",
   "metadata": {},
   "outputs": [
    {
     "name": "stdin",
     "output_type": "stream",
     "text": [
      "Enter NUM1 :  45\n",
      "Enter NUM1 :  55\n"
     ]
    },
    {
     "name": "stdout",
     "output_type": "stream",
     "text": [
      "Sum Is : 100\n"
     ]
    }
   ],
   "source": [
    "#input\n",
    "a=int(input(\"Enter NUM1 : \"))\n",
    "b=int(input(\"Enter NUM1 : \"))\n",
    "\n",
    "sum=a+b\n",
    "print(\"Sum Is :\",sum)"
   ]
  },
  {
   "cell_type": "code",
   "execution_count": 3,
   "id": "8dd842eb-a5c3-4b8a-acf6-9e4a5b40e332",
   "metadata": {},
   "outputs": [
    {
     "name": "stdin",
     "output_type": "stream",
     "text": [
      "Enter Side :  12\n"
     ]
    },
    {
     "name": "stdout",
     "output_type": "stream",
     "text": [
      "Area of Square :  144.0\n"
     ]
    }
   ],
   "source": [
    "# Area of square\n",
    "side=float(input(\"Enter Side : \"))\n",
    "Area=side*side\n",
    "print(\"Area of Square : \", Area)"
   ]
  },
  {
   "cell_type": "code",
   "execution_count": 11,
   "id": "43c56db6-e338-4fb0-9d10-d8d689026c65",
   "metadata": {},
   "outputs": [
    {
     "name": "stdin",
     "output_type": "stream",
     "text": [
      "Enter NUm1  44\n",
      "Enter NUm2  43.9\n"
     ]
    },
    {
     "name": "stdout",
     "output_type": "stream",
     "text": [
      "true\n",
      "Average Is :  43.95\n"
     ]
    }
   ],
   "source": [
    "#Float Number\n",
    "num1=float(input(\"Enter NUm1 \"))\n",
    "num2=float(input(\"Enter NUm2 \"))\n",
    "average=(num1+num2)/2\n",
    "if(num1>=num2):\n",
    "    print(\"true\")\n",
    "else : print(\"false\")\n",
    "print(\"Average Is : \",average)"
   ]
  },
  {
   "cell_type": "code",
   "execution_count": 15,
   "id": "f0d28e0e-04a1-40b3-ba44-e2a01603473e",
   "metadata": {},
   "outputs": [
    {
     "name": "stdout",
     "output_type": "stream",
     "text": [
      "M\n"
     ]
    }
   ],
   "source": [
    "#indexing\n",
    "str=\"Sher Muhammad\"\n",
    "\n",
    "print(str[5])"
   ]
  },
  {
   "cell_type": "code",
   "execution_count": 26,
   "id": "2941122f-51ed-4d20-8c18-a6a87546b89b",
   "metadata": {},
   "outputs": [
    {
     "name": "stdout",
     "output_type": "stream",
     "text": [
      "olle\n",
      "col\n",
      "geLife\n",
      "eLife\n"
     ]
    }
   ],
   "source": [
    "str = \"collegeLife\"\n",
    "print(str[1:5])\n",
    "print(str[:3])\n",
    "print(str[5:])\n",
    " # the missing value consider start and end \n",
    "print(str[-5:])"
   ]
  }
 ],
 "metadata": {
  "kernelspec": {
   "display_name": "Python 3 (ipykernel)",
   "language": "python",
   "name": "python3"
  },
  "language_info": {
   "codemirror_mode": {
    "name": "ipython",
    "version": 3
   },
   "file_extension": ".py",
   "mimetype": "text/x-python",
   "name": "python",
   "nbconvert_exporter": "python",
   "pygments_lexer": "ipython3",
   "version": "3.12.6"
  }
 },
 "nbformat": 4,
 "nbformat_minor": 5
}
