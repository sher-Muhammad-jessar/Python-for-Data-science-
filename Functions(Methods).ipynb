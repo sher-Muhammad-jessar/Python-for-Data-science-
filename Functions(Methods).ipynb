{
 "cells": [
  {
   "cell_type": "code",
   "execution_count": 7,
   "id": "51e74944-ea33-4111-8a6b-50f2ef3ecaa8",
   "metadata": {},
   "outputs": [
    {
     "name": "stdout",
     "output_type": "stream",
     "text": [
      "20.0\n"
     ]
    }
   ],
   "source": [
    "# average of 3 numbers\n",
    "def avg(a,b,c):\n",
    "     return (a+b+c)/3\n",
    "\n",
    "average=avg(10,20,30)\n",
    "print(average)"
   ]
  },
  {
   "cell_type": "code",
   "execution_count": 20,
   "id": "78db5bea-9521-4a79-b20d-4d53e1863408",
   "metadata": {},
   "outputs": [
    {
     "name": "stdout",
     "output_type": "stream",
     "text": [
      "5 6 larkana\n",
      "hyd\n",
      "jam\n",
      "khi\n",
      "dadu\n"
     ]
    }
   ],
   "source": [
    "# WAF to  return the length of list\n",
    "\n",
    "def print_len(a):\n",
    "    print(len(a),end=\" \")\n",
    "\n",
    "def print_list(a):\n",
    "    for el in a:\n",
    "        print(el)\n",
    "        \n",
    "cities=[\"larkana\",\"hyd\",\"jam\",\"khi\",\"dadu\"]\n",
    "heros=(\"ironman\",\"captio\",\"deadpool\",\"wolvarine\",\"black panther\",\"ms marvel\")\n",
    "print_len(cities)\n",
    "print_len(heros)\n",
    "print_list(cities)"
   ]
  },
  {
   "cell_type": "code",
   "execution_count": 30,
   "id": "2f48a233-dad8-4279-abe0-69b3f1022e3c",
   "metadata": {},
   "outputs": [
    {
     "name": "stdout",
     "output_type": "stream",
     "text": [
      "even\n"
     ]
    }
   ],
   "source": [
    "\n",
    "def odd_even(num):\n",
    "    if(num%2==0):\n",
    "       return \"even\"\n",
    "    else:\n",
    "        return \"odd\"\n",
    "    \n",
    "print(odd_even(99999992))"
   ]
  },
  {
   "cell_type": "code",
   "execution_count": 35,
   "id": "3aa816c0-c931-43a9-b26b-a8dd70704945",
   "metadata": {},
   "outputs": [
    {
     "name": "stdout",
     "output_type": "stream",
     "text": [
      "362880\n"
     ]
    }
   ],
   "source": [
    "# recursion\n",
    "# factorial\n",
    "def factorial(n):\n",
    "    if(n==0 or n==1):\n",
    "        return 1\n",
    "    return factorial(n-1)*n\n",
    "\n",
    "print(factorial(9))\n",
    "                  "
   ]
  },
  {
   "cell_type": "code",
   "execution_count": 43,
   "id": "82f5dbad-a160-4ea4-a11f-5900878f4948",
   "metadata": {},
   "outputs": [
    {
     "name": "stdout",
     "output_type": "stream",
     "text": [
      "15\n"
     ]
    }
   ],
   "source": [
    "#sum of n numbers\n",
    "\n",
    "def cal_sum(n):\n",
    "    if(n==0):\n",
    "        return 0\n",
    "    return cal_sum(n-1)+n\n",
    "\n",
    "\n",
    "\n",
    "print(cal_sum(5))"
   ]
  },
  {
   "cell_type": "code",
   "execution_count": 48,
   "id": "ec35b28a-c340-4f39-b1f2-a65494627c65",
   "metadata": {},
   "outputs": [
    {
     "name": "stdout",
     "output_type": "stream",
     "text": [
      "1\n",
      "2\n",
      "4\n",
      "5\n",
      "3\n",
      "6\n",
      "7\n",
      "0\n",
      "9\n",
      "8\n",
      "None\n"
     ]
    }
   ],
   "source": [
    "# print all elements in the list \n",
    "\n",
    "def print_list(a, ind=0):\n",
    "    if(ind==len(a)):\n",
    "        return \"end\"\n",
    "    print(a[ind])\n",
    "    print_list(a,ind+1)\n",
    "\n",
    "\n",
    "li=[1,2,4,5,3,6,7,0,9,8]\n",
    "print(print_list(li))"
   ]
  },
  {
   "cell_type": "code",
   "execution_count": null,
   "id": "fe12ccc2-3f40-448a-b791-322593213695",
   "metadata": {},
   "outputs": [],
   "source": []
  }
 ],
 "metadata": {
  "kernelspec": {
   "display_name": "Python 3 (ipykernel)",
   "language": "python",
   "name": "python3"
  },
  "language_info": {
   "codemirror_mode": {
    "name": "ipython",
    "version": 3
   },
   "file_extension": ".py",
   "mimetype": "text/x-python",
   "name": "python",
   "nbconvert_exporter": "python",
   "pygments_lexer": "ipython3",
   "version": "3.12.6"
  }
 },
 "nbformat": 4,
 "nbformat_minor": 5
}
